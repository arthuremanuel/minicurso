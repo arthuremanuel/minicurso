{
  "nbformat": 4,
  "nbformat_minor": 0,
  "metadata": {
    "colab": {
      "provenance": [],
      "collapsed_sections": []
    },
    "kernelspec": {
      "name": "python3",
      "display_name": "Python 3"
    },
    "language_info": {
      "name": "python"
    }
  },
  "cells": [
    {
      "cell_type": "markdown",
      "source": [
        "# Condicionais\n",
        "* Indentação obrigatória\n",
        "\n",
        "**Operadores de Comparação**\n",
        "* Equals: a == b\n",
        "* Not Equals: a != b\n",
        "* Less than: a < b\n",
        "* Less than or equal to: a <= b\n",
        "* Greater than: a > b\n",
        "* Greater than or equal to: a >= b\n",
        "\n",
        "**Operadores Lógicos**\n",
        "* and\n",
        "* or\n",
        "* not\n",
        "\n",
        "\n"
      ],
      "metadata": {
        "id": "88xGXGyQ_67K"
      }
    },
    {
      "cell_type": "code",
      "execution_count": 1,
      "metadata": {
        "id": "Dd-ohy_OzYNX",
        "colab": {
          "base_uri": "https://localhost:8080/"
        },
        "outputId": "0c0735c3-3a4e-4763-804b-72eb56ee8f85"
      },
      "outputs": [
        {
          "output_type": "stream",
          "name": "stdout",
          "text": [
            "-> b is greater than a\n",
            "B\n"
          ]
        }
      ],
      "source": [
        "a = 33\n",
        "b = 200\n",
        "if b > a:\n",
        "    print(\"-> b is greater than a\")  \n",
        "\n",
        "if a > b: print(\"a is greater than b\")  # Uma linha (1)\n",
        "print(\"A\") if a > b else print(\"B\")     # Uma linha (2)"
      ]
    },
    {
      "cell_type": "code",
      "source": [
        "a = 33\n",
        "b = 33\n",
        "if b > a:\n",
        "    print(\"b is greater than a\")\n",
        "elif a == b:\n",
        "    print(\"a and b are equal\")\n",
        "else:\n",
        "    print(\"a is greater than b\")"
      ],
      "metadata": {
        "id": "03cAhQvRNG86",
        "colab": {
          "base_uri": "https://localhost:8080/"
        },
        "outputId": "efd6de59-f322-4f6d-f9e1-b145e1978cbf"
      },
      "execution_count": 2,
      "outputs": [
        {
          "output_type": "stream",
          "name": "stdout",
          "text": [
            "a and b are equal\n"
          ]
        }
      ]
    },
    {
      "cell_type": "code",
      "source": [
        "a = 200\n",
        "b = 33\n",
        "c = 500\n",
        "if a > b and c > a: #Two or more conditions\n",
        "    print(\"Both conditions are True\")"
      ],
      "metadata": {
        "id": "5oDNFtiaN51W",
        "colab": {
          "base_uri": "https://localhost:8080/"
        },
        "outputId": "5970e251-ff38-4e5c-b64c-8fb4f7eb14a5"
      },
      "execution_count": 3,
      "outputs": [
        {
          "output_type": "stream",
          "name": "stdout",
          "text": [
            "Both conditions are True\n"
          ]
        }
      ]
    },
    {
      "cell_type": "markdown",
      "source": [
        "**Exercício**\n",
        "  \n",
        "1.   Adicione ao exercício de Báskara a condição para que\n",
        "2.   Faça um código que leia o sexo de uma pessoa e sua altura do teclado. Em seguida, verifique e calcule:<br>\n",
        "(1) Se o sexo for masculino, calcular o peso ideal como sendo:\n",
        "Peso Homem = altura-100 – 10%;<br>\n",
        "(2) Se o sexo for feminino, calcular o peso ideal como sendo:\n",
        "Peso Mulher = altura-100 – 15%.\n"
      ],
      "metadata": {
        "id": "um-Jk0w0OHka"
      }
    },
    {
      "cell_type": "markdown",
      "source": [
        "# For\n"
      ],
      "metadata": {
        "id": "hplcgmZD_-__"
      }
    },
    {
      "cell_type": "code",
      "source": [
        "fruits = [\"apple\", \"banana\", \"cherry\"]\n",
        "for x in fruits:\n",
        "  print(x)"
      ],
      "metadata": {
        "id": "_B8WUznVABuu",
        "colab": {
          "base_uri": "https://localhost:8080/"
        },
        "outputId": "dfd0a960-3b77-4731-d1b8-63af76525a6e"
      },
      "execution_count": 4,
      "outputs": [
        {
          "output_type": "stream",
          "name": "stdout",
          "text": [
            "apple\n",
            "banana\n",
            "cherry\n"
          ]
        }
      ]
    },
    {
      "cell_type": "code",
      "source": [
        "for x in range(10):    # range (init, end, step) ex: range(0,6,1) -> from 0 until 6 incremented by 1\n",
        "   print(x)"
      ],
      "metadata": {
        "id": "ItJJELa9Tv5f",
        "colab": {
          "base_uri": "https://localhost:8080/"
        },
        "outputId": "1fed3ac4-8415-425a-d967-7a1aaa398f32"
      },
      "execution_count": 5,
      "outputs": [
        {
          "output_type": "stream",
          "name": "stdout",
          "text": [
            "0\n",
            "1\n",
            "2\n",
            "3\n",
            "4\n",
            "5\n",
            "6\n",
            "7\n",
            "8\n",
            "9\n"
          ]
        }
      ]
    },
    {
      "cell_type": "code",
      "source": [
        "adj = [\"red\", \"big\", \"tasty\"]\n",
        "fruits = [\"apple\", \"banana\", \"cherry\"]\n",
        "\n",
        "for x in adj:\n",
        "  for y in fruits:\n",
        "    print(x, y)"
      ],
      "metadata": {
        "id": "pqfKw-nmUJbk",
        "colab": {
          "base_uri": "https://localhost:8080/"
        },
        "outputId": "2727c750-14e7-42f9-896b-65d3b9e2d022"
      },
      "execution_count": 6,
      "outputs": [
        {
          "output_type": "stream",
          "name": "stdout",
          "text": [
            "red apple\n",
            "red banana\n",
            "red cherry\n",
            "big apple\n",
            "big banana\n",
            "big cherry\n",
            "tasty apple\n",
            "tasty banana\n",
            "tasty cherry\n"
          ]
        }
      ]
    },
    {
      "cell_type": "code",
      "source": [
        "#https://www.w3schools.com/python/python_lists_comprehension.asp\n",
        "fruits = [\"apple\", \"banana\", \"cherry\", \"kiwi\", \"mango\"]\n",
        "newlist = [x for x in fruits if \"a\" in x]  #newlist = [expression for item in iterable if condition == True]\n",
        "print(newlist)"
      ],
      "metadata": {
        "id": "pr0KXfn1VqxS",
        "colab": {
          "base_uri": "https://localhost:8080/"
        },
        "outputId": "ad276796-0153-42a2-943c-c0f4cd86ed38"
      },
      "execution_count": 7,
      "outputs": [
        {
          "output_type": "stream",
          "name": "stdout",
          "text": [
            "['apple', 'banana', 'mango']\n"
          ]
        }
      ]
    },
    {
      "cell_type": "markdown",
      "source": [
        "# While"
      ],
      "metadata": {
        "id": "BJ-zC22ZACKS"
      }
    },
    {
      "cell_type": "code",
      "source": [
        "i = 1\n",
        "while i < 6:\n",
        "  print(i)\n",
        "  i += 1"
      ],
      "metadata": {
        "id": "QzvGgy9SAEOf",
        "colab": {
          "base_uri": "https://localhost:8080/"
        },
        "outputId": "9d15f59b-5347-487e-b2f7-f5fb1bcd3bbd"
      },
      "execution_count": 8,
      "outputs": [
        {
          "output_type": "stream",
          "name": "stdout",
          "text": [
            "1\n",
            "2\n",
            "3\n",
            "4\n",
            "5\n"
          ]
        }
      ]
    },
    {
      "cell_type": "markdown",
      "source": [
        "# Funções\n",
        "* Bloco de código que executa apenas quando é chamado\n",
        "* Pode-se utilizar parâmetros e retornar dados\n",
        "* Usa-se <i>def</i> para declarar uma função"
      ],
      "metadata": {
        "id": "QSf6PaCjAFJ8"
      }
    },
    {
      "cell_type": "code",
      "source": [
        "def delta(a,b,c):\n",
        "    return b**2 - 4*a*c\n",
        "d = delta(-1,0,1)\n",
        "print(d)"
      ],
      "metadata": {
        "id": "q-LOiPN5AKBZ",
        "colab": {
          "base_uri": "https://localhost:8080/"
        },
        "outputId": "e633bdb4-c08b-4ab9-ec15-7148de9287d5"
      },
      "execution_count": 9,
      "outputs": [
        {
          "output_type": "stream",
          "name": "stdout",
          "text": [
            "4\n"
          ]
        }
      ]
    },
    {
      "cell_type": "markdown",
      "source": [
        "**Exercício**<br>\n",
        "Exiba os seguintes valores na tela:<br>\n",
        "a. 0 1 2 3 4 5 6 7 8 9 10<br>\n",
        "b. 10 9 8 7 6 5 4 3 2 1<br>\n",
        "c. 0 1 4 9 16 25 36 49 64 81 100<br>\n",
        "d. 1 2 3 4 5 10 20 30 40 50<br>\n",
        "\n"
      ],
      "metadata": {
        "id": "UZlNKRXKZ4Za"
      }
    },
    {
      "cell_type": "code",
      "source": [
        "for i in range(0,11): print(i)\n",
        "\n",
        "for i in range(11,0,-1): print(i)\n",
        "\n",
        "i=1\n",
        "dec = 1\n",
        "count = 1\n",
        "while count <= 10:\n",
        "    print(i*dec)\n",
        "    i += 1\n",
        "    count += 1\n",
        "    if count == 6: \n",
        "        dec = 10\n",
        "        i = 1"
      ],
      "metadata": {
        "id": "ub8FUqjcY3od",
        "colab": {
          "base_uri": "https://localhost:8080/"
        },
        "outputId": "e7a05a04-4786-44b2-f442-82f86f4236b5"
      },
      "execution_count": 10,
      "outputs": [
        {
          "output_type": "stream",
          "name": "stdout",
          "text": [
            "0\n",
            "1\n",
            "2\n",
            "3\n",
            "4\n",
            "5\n",
            "6\n",
            "7\n",
            "8\n",
            "9\n",
            "10\n",
            "11\n",
            "10\n",
            "9\n",
            "8\n",
            "7\n",
            "6\n",
            "5\n",
            "4\n",
            "3\n",
            "2\n",
            "1\n",
            "1\n",
            "2\n",
            "3\n",
            "4\n",
            "5\n",
            "10\n",
            "20\n",
            "30\n",
            "40\n",
            "50\n"
          ]
        }
      ]
    },
    {
      "cell_type": "markdown",
      "source": [
        "**Exercício**\n",
        "1. Desenvolva um exercício que verifique se um número é primo ou não\n",
        "\n",
        "2. A série de Fibonacci é a seguinte: <br>0, 1, 1, 2, 3, 5, 8, 13, 21, etc... \n",
        "<br>\n",
        "Para calculá-la, o primeiro elemento vale 0, o segundo vale 1, daí por diante, o n-ésimo elemento vale o (n-1)-ésimo elemento somado ao (n-2)-ésimo elemento (ex: 8 = 5 + 3).\n",
        "* Desenvolva uma função que calcule o elemento i (enviado como parâmetro) de uma sequência de Fibonacci e chame-a para diferentes valores."
      ],
      "metadata": {
        "id": "yTdEzdTzXvAM"
      }
    },
    {
      "cell_type": "code",
      "source": [
        "def fibonacci(index):\n",
        "    fib = 1\n",
        "    ant = 0\n",
        "    soma = 1\n",
        "    if index == 1: return 0\n",
        "    if index == 2: return 1          \n",
        "    for i in range(index-2):\n",
        "        soma = fib + ant\n",
        "        ant = fib\n",
        "        fib = soma\n",
        "    return fib\n",
        "\n",
        "print(fibonacci(7))"
      ],
      "metadata": {
        "id": "HlkCWI2OWz7M",
        "colab": {
          "base_uri": "https://localhost:8080/"
        },
        "outputId": "c020a927-b463-4352-fa72-5c4064b55802"
      },
      "execution_count": 11,
      "outputs": [
        {
          "output_type": "stream",
          "name": "stdout",
          "text": [
            "8\n"
          ]
        }
      ]
    }
  ]
}