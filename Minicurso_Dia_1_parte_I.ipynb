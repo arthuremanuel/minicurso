{
  "nbformat": 4,
  "nbformat_minor": 0,
  "metadata": {
    "colab": {
      "provenance": [],
      "collapsed_sections": []
    },
    "kernelspec": {
      "name": "python3",
      "display_name": "Python 3"
    },
    "language_info": {
      "name": "python"
    }
  },
  "cells": [
    {
      "cell_type": "markdown",
      "source": [
        "# Olá, Mundo!\n",
        "* Seu primeiro programa em Python<br>\n",
        "* A função <i>print</i> é utilizada para comando de saída"
      ],
      "metadata": {
        "id": "vJfsePh6FscS"
      }
    },
    {
      "cell_type": "code",
      "execution_count": 1,
      "metadata": {
        "id": "mDZmpTqG6DGC",
        "colab": {
          "base_uri": "https://localhost:8080/"
        },
        "outputId": "5397c0ae-ad5f-4e29-dcd4-17c67de17080"
      },
      "outputs": [
        {
          "output_type": "stream",
          "name": "stdout",
          "text": [
            "Hello, World!\n"
          ]
        }
      ],
      "source": [
        "print(\"Hello, World!\")"
      ]
    },
    {
      "cell_type": "markdown",
      "source": [
        "# Instruções Iniciais\n",
        "<ul>\n",
        "<li>Indentação de código é OBRIGATÓRIO para indicar um bloco de código</li>\n",
        "<li>Para comentários de uma linha, utiliza-se #TEXTO COMENTADO</li>\n",
        "<li>Para comentários de várias linhas, utiliza-se \"\"\"  TEXTO COMENTADO  \"\"\"</li>\n",
        "</ul>"
      ],
      "metadata": {
        "id": "e-VW9w4LGpGe"
      }
    },
    {
      "cell_type": "code",
      "source": [
        "print(\"Hello, World!\") # Meu primeiro código em Python"
      ],
      "metadata": {
        "id": "qTxQE6XUI5bQ",
        "colab": {
          "base_uri": "https://localhost:8080/"
        },
        "outputId": "264bb608-b273-4bee-d703-ea2cfc70091e"
      },
      "execution_count": 2,
      "outputs": [
        {
          "output_type": "stream",
          "name": "stdout",
          "text": [
            "Hello, World!\n"
          ]
        }
      ]
    },
    {
      "cell_type": "markdown",
      "source": [
        "# Variáveis\n",
        "<ul>\n",
        "<li>As variáveis são criadas no momento em que um valor é atribuído a elas</li>\n",
        "<li>Não há declaração explícita de tipo de variável e podem ter o seu tipo mudado durante a execução do código</li>\n",
        "<li>Variáveis são sensíveis ao caso e devem ter seu nome começando com letra ou _ </li>\n",
        "<li>A função type pode ser utilizada para mostrar explicitamente o tipo de uma variável</li>\n",
        "</ul>"
      ],
      "metadata": {
        "id": "wC6p-FtWIyiM"
      }
    },
    {
      "cell_type": "code",
      "source": [
        "a = 5         #Integer\n",
        "_b = 5.5      #Float\n",
        "c1 = 'c'      #String\n",
        "d = \"String\"  #String\n",
        "e = False     #Boolean\n",
        "print(a)\n",
        "print(_b)\n",
        "print(c1)\n",
        "print(d)\n",
        "print(type(a), type(_b), type(c1), type(d), type(e)) "
      ],
      "metadata": {
        "id": "-qY9heCdFIhb",
        "colab": {
          "base_uri": "https://localhost:8080/"
        },
        "outputId": "0573a3c8-7351-4f72-c79e-5d9834de4028"
      },
      "execution_count": 3,
      "outputs": [
        {
          "output_type": "stream",
          "name": "stdout",
          "text": [
            "5\n",
            "5.5\n",
            "c\n",
            "String\n",
            "<class 'int'> <class 'float'> <class 'str'> <class 'str'> <class 'bool'>\n"
          ]
        }
      ]
    },
    {
      "cell_type": "code",
      "source": [
        "# Juntando Strings\n",
        "a = \"Isso é uma String\"\n",
        "b = \"e isso é outra String\"\n",
        "c = a + \" \" + b\n",
        "print(c)\n",
        "print(\"O tamanho da String c é: \" , len(c))\n",
        "#Separando Strings\n",
        "d = \"Hello, World!\"\n",
        "print(d.split(\",\"))"
      ],
      "metadata": {
        "id": "ZlWXa1ldMXO-",
        "colab": {
          "base_uri": "https://localhost:8080/"
        },
        "outputId": "c3444f32-4e46-4dec-d5d8-318775f4bd33"
      },
      "execution_count": 4,
      "outputs": [
        {
          "output_type": "stream",
          "name": "stdout",
          "text": [
            "Isso é uma String e isso é outra String\n",
            "O tamanho da String c é:  39\n",
            "['Hello', ' World!']\n"
          ]
        }
      ]
    },
    {
      "cell_type": "code",
      "source": [
        "print(\"Múltiplos valores para múltiplas variáveis\")\n",
        "x, y, z = \"Orange\", \"Banana\", \"Cherry\" \n",
        "print(x,y,z)\n",
        "\n",
        "print(\"Um valor para múltiplas variáveis\")\n",
        "x = y = z = \"Orange\"\n",
        "print(x,y,z)"
      ],
      "metadata": {
        "id": "hFxLOPY1JWfF",
        "colab": {
          "base_uri": "https://localhost:8080/"
        },
        "outputId": "bacd5b90-d0a0-429a-8ea2-66c5b0fb82eb"
      },
      "execution_count": 5,
      "outputs": [
        {
          "output_type": "stream",
          "name": "stdout",
          "text": [
            "Múltiplos valores para múltiplas variáveis\n",
            "Orange Banana Cherry\n",
            "Um valor para múltiplas variáveis\n",
            "Orange Orange Orange\n"
          ]
        }
      ]
    },
    {
      "cell_type": "code",
      "source": [
        "print(\"Entrada de dados pelo teclado\")\n",
        "x = input(\"Digite uma string\")\n",
        "print(x)\n",
        "\n",
        "y = int(input(\"Digite um numero inteiro\")) #Casting\n",
        "print(y)"
      ],
      "metadata": {
        "id": "T725J4kgMCam",
        "colab": {
          "base_uri": "https://localhost:8080/"
        },
        "outputId": "1c6139cb-e638-4ff6-90f3-defe26ac7e85"
      },
      "execution_count": 6,
      "outputs": [
        {
          "output_type": "stream",
          "name": "stdout",
          "text": [
            "Entrada de dados pelo teclado\n",
            "Digite uma stringteste\n",
            "teste\n",
            "Digite um numero inteiro1\n",
            "1\n"
          ]
        }
      ]
    },
    {
      "cell_type": "markdown",
      "source": [
        "**Exercício**<br>\n",
        "Desenvolva um programa em Python que:<br>\n",
        "(0) Leia os valores a, b e c do teclado, relativos a uma equação do segundo grau.<br>\n",
        "(1) Resolva o valor de delta em uma equação de Báskara.<br>\n",
        "(2) Resolva o valor de x1 e x2 a partir dos valores de delta obtidos na etapa anterior.<br>"
      ],
      "metadata": {
        "id": "AqesH0TnOjf0"
      }
    },
    {
      "cell_type": "code",
      "source": [
        "import math\n",
        "a,b,c = int(input(\"Digite a\")), int(input(\"Digite b\")), int(input(\"Digite c\"))\n",
        "delta = b**2 - 4*a*c\n",
        "x1 = (-b + math.sqrt(delta))/(2*a)\n",
        "x2 = (-b - math.sqrt(delta))/(2*a)\n",
        "print(\"As raízes são: \",x1,\" e \",x2)"
      ],
      "metadata": {
        "id": "Wx3UmqQcO7B4",
        "colab": {
          "base_uri": "https://localhost:8080/"
        },
        "outputId": "ffad9198-0e25-4e45-f947-f3269ca20440"
      },
      "execution_count": 7,
      "outputs": [
        {
          "output_type": "stream",
          "name": "stdout",
          "text": [
            "Digite a1\n",
            "Digite b0\n",
            "Digite c-1\n",
            "As raízes são:  1.0  e  -1.0\n"
          ]
        }
      ]
    },
    {
      "cell_type": "markdown",
      "source": [
        "# Listas\n",
        "\n",
        "\n",
        "*   Utilizadas para armazenar múltiplos elementos em uma única variável (similar a um vetor)\n",
        "*   Seus dados podem ser de qualquer tipo\n",
        "\n"
      ],
      "metadata": {
        "id": "lBI8fMI3RNYH"
      }
    },
    {
      "cell_type": "code",
      "source": [
        "list = [\"apple\", \"banana\", \"cherry\", \"orange\", \"kiwi\", \"melon\", \"mango\"]\n",
        "list[1] = \"blackcurrant\"\n",
        "\n",
        "print(\"Lista completa\",list)\n",
        "print(\"Primeiro elemento\",list[0])\n",
        "print(\"Segundo elemento\",list[1])\n",
        "print(\"Terceiro elemento\",list[2])\n",
        "print(\"Último elemento (índice negativo)\",list[-1])      # Índice Negativo\n",
        "print(\"Range (intervalo) de 2 a 5 (não incluso)\",list[2:5]) \n",
        "print(\"Range (intervalo) do início até 4 (não incluso)\",list[:4])\n",
        "print(\"Range (intervalo) de 2 até o final da lista\",list[2:])\n",
        "print(\"Range (intervalo) negativo de -4 até -1 (não incluso)\",list[-4:-1])\n",
        "print(\"Tamanho da lista\",len(list))"
      ],
      "metadata": {
        "id": "_i9vl9rcRCSG",
        "colab": {
          "base_uri": "https://localhost:8080/"
        },
        "outputId": "4986c9bc-4361-44d6-8a20-65707b52f1e0"
      },
      "execution_count": 8,
      "outputs": [
        {
          "output_type": "stream",
          "name": "stdout",
          "text": [
            "Lista completa ['apple', 'blackcurrant', 'cherry', 'orange', 'kiwi', 'melon', 'mango']\n",
            "Primeiro elemento apple\n",
            "Segundo elemento blackcurrant\n",
            "Terceiro elemento cherry\n",
            "Último elemento (índice negativo) mango\n",
            "Range (intervalo) de 2 a 5 (não incluso) ['cherry', 'orange', 'kiwi']\n",
            "Range (intervalo) do início até 4 (não incluso) ['apple', 'blackcurrant', 'cherry', 'orange']\n",
            "Range (intervalo) de 2 até o final da lista ['cherry', 'orange', 'kiwi', 'melon', 'mango']\n",
            "Range (intervalo) negativo de -4 até -1 (não incluso) ['orange', 'kiwi', 'melon']\n",
            "Tamanho da lista 7\n"
          ]
        }
      ]
    },
    {
      "cell_type": "code",
      "source": [
        "list = []\n",
        "list2 = [\"apple\", \"banana\", \"cherry\"]\n",
        "list.extend(list2)\n",
        "list.append(\"another fruit\")\n",
        "list.insert(1, \"inserted fruit\")\n",
        "list.remove(\"banana\")\n",
        "list.pop(1)\n",
        "print(list)"
      ],
      "metadata": {
        "id": "UzqBApO8VwY1",
        "colab": {
          "base_uri": "https://localhost:8080/"
        },
        "outputId": "fca0ff65-42d6-4b79-d068-bfdd97894c5a"
      },
      "execution_count": 9,
      "outputs": [
        {
          "output_type": "stream",
          "name": "stdout",
          "text": [
            "['apple', 'cherry', 'another fruit']\n"
          ]
        }
      ]
    },
    {
      "cell_type": "markdown",
      "source": [
        "# Dicionários\n",
        "\n",
        "\n",
        "*   Utilizados para armazenar o par Chave:Valor\n",
        "* Não permitem o uso de dois itens com a mesma chave\n",
        "* Podem armazenar itens de qualquer tipo de dados\n",
        "\n"
      ],
      "metadata": {
        "id": "LCUCg9l2aqgK"
      }
    },
    {
      "cell_type": "code",
      "source": [
        "dictionary = {\n",
        "  \"brand\": \"Ford\",\n",
        "  \"model\": \"Mustang\",\n",
        "  \"year\": 1964\n",
        "}\n",
        "dictionary[\"color\"] = \"white\"\n",
        "print(dictionary)\n",
        "print(dictionary['brand'])\n",
        "print(dictionary.keys())\n",
        "print(dictionary.values())\n",
        "print(dictionary.items())\n",
        "print(dictionary.pop(\"model\"))\n",
        "print(dictionary)"
      ],
      "metadata": {
        "id": "4swlRpO-ZSQl",
        "colab": {
          "base_uri": "https://localhost:8080/"
        },
        "outputId": "69702215-2aff-4660-a012-aa73c2c9b6f5"
      },
      "execution_count": 10,
      "outputs": [
        {
          "output_type": "stream",
          "name": "stdout",
          "text": [
            "{'brand': 'Ford', 'model': 'Mustang', 'year': 1964, 'color': 'white'}\n",
            "Ford\n",
            "dict_keys(['brand', 'model', 'year', 'color'])\n",
            "dict_values(['Ford', 'Mustang', 1964, 'white'])\n",
            "dict_items([('brand', 'Ford'), ('model', 'Mustang'), ('year', 1964), ('color', 'white')])\n",
            "Mustang\n",
            "{'brand': 'Ford', 'year': 1964, 'color': 'white'}\n"
          ]
        }
      ]
    },
    {
      "cell_type": "markdown",
      "source": [],
      "metadata": {
        "id": "6Om7JT5akPi6"
      }
    },
    {
      "cell_type": "markdown",
      "source": [],
      "metadata": {
        "id": "pDRcaP92kNmG"
      }
    }
  ]
}